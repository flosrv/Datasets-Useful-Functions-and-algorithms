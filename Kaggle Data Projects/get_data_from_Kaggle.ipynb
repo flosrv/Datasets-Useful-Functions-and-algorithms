{
 "cells": [
  {
   "cell_type": "code",
   "execution_count": 1,
   "metadata": {},
   "outputs": [
    {
     "name": "stdout",
     "output_type": "stream",
     "text": [
      "Note: you may need to restart the kernel to use updated packages.\n"
     ]
    }
   ],
   "source": [
    "%pip install -q kaggle kagglehub ipywidgets \"dask[distributed]\" --upgrade"
   ]
  },
  {
   "cell_type": "code",
   "execution_count": 2,
   "metadata": {},
   "outputs": [],
   "source": [
    "from imports import *\n",
    "from functions import *"
   ]
  },
  {
   "cell_type": "code",
   "execution_count": 3,
   "metadata": {},
   "outputs": [
    {
     "name": "stdout",
     "output_type": "stream",
     "text": [
      "🚀 Nouveau client Dask créé.\n"
     ]
    }
   ],
   "source": [
    "try:\n",
    "    client = default_client()\n",
    "    print(\"✅ Un client Dask existant est déjà en cours.\")\n",
    "except ValueError:\n",
    "    client = Client()\n",
    "    print(\"🚀 Nouveau client Dask créé.\")"
   ]
  },
  {
   "cell_type": "markdown",
   "metadata": {},
   "source": [
    "Authentification avec Kaggle"
   ]
  },
  {
   "cell_type": "code",
   "execution_count": 4,
   "metadata": {},
   "outputs": [
    {
     "name": "stdout",
     "output_type": "stream",
     "text": [
      "Authentification réussie avec le fichier 'C:\\Credentials\\kaggle.json'\n"
     ]
    }
   ],
   "source": [
    "# Définis le chemin du fichier kaggle.json\n",
    "path = r\"C:\\Credentials\\kaggle.json\"\n",
    "#json file : {\"username\":\"flosrv\",\"api_key\":\"44c79a4d5d1534092d24ee29f34e6ee3\"}\n",
    "# Charge les credentials depuis le fichier JSON\n",
    "with open(path, 'r') as file:\n",
    "    content = json.load(file)\n",
    "\n",
    "# Récupère les valeurs du fichier\n",
    "username = content[\"username\"]\n",
    "api_key = content[\"key\"]  # ⚠️ Assure-toi que la clé s'appelle bien \"key\" dans ton fichier JSON\n",
    "\n",
    "# ✅ Définis les variables d'environnement avant de les utiliser\n",
    "os.environ['KAGGLE_USERNAME'] = username\n",
    "os.environ['KAGGLE_KEY'] = api_key\n",
    "import kaggle\n",
    "from kaggle import KaggleApi\n",
    "from kaggle import api # import the already authenticated API client\n",
    "# 1. **Authentification avec Kaggle**\n",
    "def authenticate_kaggle():\n",
    "    # Vérifie si le fichier kaggle.json est dans le bon dossier\n",
    "    kaggle_json_path = os.path.expanduser(path)  # pour Linux/macOS\n",
    "    # Pour Windows, utilisez : os.path.expanduser(r'C:\\Users\\<Votre-Nom>\\.kaggle\\kaggle.json')\n",
    "\n",
    "    # Si le fichier n'existe pas, avertir l'utilisateur\n",
    "    if not os.path.exists(kaggle_json_path):\n",
    "        print(\"Le fichier 'kaggle.json' n'est pas trouvé. Téléchargez-le depuis votre compte Kaggle.\")\n",
    "        print(\"Assurez-vous de le placer dans le répertoire ~/.kaggle/ (Linux/macOS) ou C:\\\\Users\\\\<Your-Username>\\\\.kaggle\\\\ (Windows).\")\n",
    "        return False  # L'authentification échoue\n",
    "    else:\n",
    "        print(f\"Authentification réussie avec le fichier '{kaggle_json_path}'\")\n",
    "        api = KaggleApi()\n",
    "        api.authenticate()  # Authentification avec le fichier 'kaggle.json'\n",
    "        return True\n",
    "\n",
    "try:\n",
    "    # Exécuter l'authentification\n",
    "    authenticate_kaggle()\n",
    "except Exception as e:\n",
    "    print(f\"Erreur lors de l'authentification : {e}\")\n",
    "    sys.exit(1)"
   ]
  },
  {
   "cell_type": "code",
   "execution_count": 5,
   "metadata": {},
   "outputs": [],
   "source": [
    "download_path = r\"C:\\Users\\f.gionnane\\Documents\\Useful Functions and algorithms\\downloaded_datasets\""
   ]
  },
  {
   "cell_type": "markdown",
   "metadata": {},
   "source": [
    "    Search Datasets by keywords"
   ]
  },
  {
   "cell_type": "code",
   "execution_count": 8,
   "metadata": {},
   "outputs": [
    {
     "name": "stdout",
     "output_type": "stream",
     "text": [
      "Lister les datasets correspondant à '['sales', 'marketing', 'customer', 'finance', 'supply chain', 'human resources', 'retail', 'ecommerce', 'operations', 'real estate']' :\n",
      "\n",
      "53 datasets trouvés.\n"
     ]
    },
    {
     "data": {
      "text/html": [
       "<div>\n",
       "<style scoped>\n",
       "    .dataframe tbody tr th:only-of-type {\n",
       "        vertical-align: middle;\n",
       "    }\n",
       "\n",
       "    .dataframe tbody tr th {\n",
       "        vertical-align: top;\n",
       "    }\n",
       "\n",
       "    .dataframe thead th {\n",
       "        text-align: right;\n",
       "    }\n",
       "</style>\n",
       "<table border=\"1\" class=\"dataframe\">\n",
       "  <thead>\n",
       "    <tr style=\"text-align: right;\">\n",
       "      <th></th>\n",
       "      <th>title</th>\n",
       "      <th>ref</th>\n",
       "      <th>description</th>\n",
       "      <th>lastUpdated</th>\n",
       "      <th>voteCount</th>\n",
       "      <th>tags</th>\n",
       "      <th>usabilityRating</th>\n",
       "      <th>dataset_size_mb</th>\n",
       "      <th>Size (Mb)</th>\n",
       "    </tr>\n",
       "  </thead>\n",
       "  <tbody>\n",
       "    <tr>\n",
       "      <th>0</th>\n",
       "      <td>Vehicle Sales Data</td>\n",
       "      <td>syedanwarafridi/vehicle-sales-data</td>\n",
       "      <td></td>\n",
       "      <td>2024-02-21T20:16:17.790Z</td>\n",
       "      <td>586</td>\n",
       "      <td>[transportation, data visualization, data anal...</td>\n",
       "      <td>1.000000</td>\n",
       "      <td>18.84</td>\n",
       "      <td>18.84</td>\n",
       "    </tr>\n",
       "    <tr>\n",
       "      <th>1</th>\n",
       "      <td>E-Commerce Sales Dataset</td>\n",
       "      <td>thedevastator/unlock-profits-with-e-commerce-s...</td>\n",
       "      <td></td>\n",
       "      <td>2022-12-03T09:27:17.413Z</td>\n",
       "      <td>633</td>\n",
       "      <td>[business, data cleaning, data visualization, ...</td>\n",
       "      <td>1.000000</td>\n",
       "      <td>6.33</td>\n",
       "      <td>6.33</td>\n",
       "    </tr>\n",
       "    <tr>\n",
       "      <th>2</th>\n",
       "      <td>Marketing A/B Testing</td>\n",
       "      <td>faviovaz/marketing-ab-testing</td>\n",
       "      <td></td>\n",
       "      <td>2021-10-20T14:35:45.650Z</td>\n",
       "      <td>53</td>\n",
       "      <td>[marketing, beginner, exploratory data analysi...</td>\n",
       "      <td>0.941176</td>\n",
       "      <td>5.23</td>\n",
       "      <td>5.23</td>\n",
       "    </tr>\n",
       "    <tr>\n",
       "      <th>3</th>\n",
       "      <td>Telecom customer</td>\n",
       "      <td>abhinav89/telecom-customer</td>\n",
       "      <td></td>\n",
       "      <td>2017-08-27T03:01:50.747Z</td>\n",
       "      <td>207</td>\n",
       "      <td>[business]</td>\n",
       "      <td>0.705882</td>\n",
       "      <td>13.57</td>\n",
       "      <td>13.57</td>\n",
       "    </tr>\n",
       "    <tr>\n",
       "      <th>4</th>\n",
       "      <td>Customer Support on Twitter</td>\n",
       "      <td>thoughtvector/customer-support-on-twitter</td>\n",
       "      <td></td>\n",
       "      <td>2017-12-03T23:44:27.157Z</td>\n",
       "      <td>495</td>\n",
       "      <td>[business, social science, linguistics, comput...</td>\n",
       "      <td>0.911765</td>\n",
       "      <td>168.58</td>\n",
       "      <td>168.58</td>\n",
       "    </tr>\n",
       "  </tbody>\n",
       "</table>\n",
       "</div>"
      ],
      "text/plain": [
       "                         title  \\\n",
       "0           Vehicle Sales Data   \n",
       "1     E-Commerce Sales Dataset   \n",
       "2        Marketing A/B Testing   \n",
       "3             Telecom customer   \n",
       "4  Customer Support on Twitter   \n",
       "\n",
       "                                                 ref description  \\\n",
       "0                 syedanwarafridi/vehicle-sales-data               \n",
       "1  thedevastator/unlock-profits-with-e-commerce-s...               \n",
       "2                      faviovaz/marketing-ab-testing               \n",
       "3                         abhinav89/telecom-customer               \n",
       "4          thoughtvector/customer-support-on-twitter               \n",
       "\n",
       "                lastUpdated  voteCount  \\\n",
       "0  2024-02-21T20:16:17.790Z        586   \n",
       "1  2022-12-03T09:27:17.413Z        633   \n",
       "2  2021-10-20T14:35:45.650Z         53   \n",
       "3  2017-08-27T03:01:50.747Z        207   \n",
       "4  2017-12-03T23:44:27.157Z        495   \n",
       "\n",
       "                                                tags  usabilityRating  \\\n",
       "0  [transportation, data visualization, data anal...         1.000000   \n",
       "1  [business, data cleaning, data visualization, ...         1.000000   \n",
       "2  [marketing, beginner, exploratory data analysi...         0.941176   \n",
       "3                                         [business]         0.705882   \n",
       "4  [business, social science, linguistics, comput...         0.911765   \n",
       "\n",
       "   dataset_size_mb  Size (Mb)  \n",
       "0            18.84      18.84  \n",
       "1             6.33       6.33  \n",
       "2             5.23       5.23  \n",
       "3            13.57      13.57  \n",
       "4           168.58     168.58  "
      ]
     },
     "execution_count": 8,
     "metadata": {},
     "output_type": "execute_result"
    }
   ],
   "source": [
    "keywords = [\n",
    "    \"sales\",          # Ventes : analyses de performance commerciale\n",
    "    \"marketing\",      # Campagnes, ROI, funnel, etc.\n",
    "    \"customer\",       # Données clients : segmentation, churn, satisfaction\n",
    "    \"finance\",        # Budgets, prévisions, états financiers\n",
    "    \"supply chain\",   # Logistique, stocks, prévision de demande\n",
    "    \"human resources\",# RH : turnover, performance, recrutement\n",
    "    \"retail\",         # Analyse de produits, points de vente, inventaire\n",
    "    \"ecommerce\",      # Données web, comportement d'achat, panier moyen\n",
    "    \"operations\",     # Optimisation de processus internes\n",
    "    \"real estate\"     # Immobilier : investissements, prévisions de prix\n",
    "]\n",
    "\n",
    "df_consulting_datasets =list_datasets(keyword=keywords, usability_min=0.6, min_mb=5)\n",
    "try:\n",
    "    df_consulting_datasets[\"tags\"] = df_consulting_datasets[\"tags\"].apply(lambda x: [tag[\"name\"] for tag in x])\n",
    "except Exception as e:\n",
    "    print(e)\n",
    "df_consulting_datasets.head()"
   ]
  },
  {
   "cell_type": "code",
   "execution_count": 7,
   "metadata": {},
   "outputs": [
    {
     "name": "stdout",
     "output_type": "stream",
     "text": [
      "📁 Création du dossier : 'C:\\Users\\f.gionnane\\Documents\\Useful Functions and algorithms\\downloaded_datasets\\vehicle-sales-data'\n",
      "📥 Téléchargement de 'vehicle-sales-data_18.84_mb'...\n"
     ]
    },
    {
     "name": "stderr",
     "output_type": "stream",
     "text": [
      "📥 Progression:  96%|█████████▌| 18.0/18.8 [00:18<00:00, 1.00s/MB]c:\\Users\\f.gionnane\\Documents\\Useful Functions and algorithms\\env\\Lib\\site-packages\\tqdm\\std.py:636: TqdmWarning: clamping frac to range [0, 1]\n",
      "  full_bar = Bar(frac,\n",
      "📥 Progression: 20.0MB [00:20, 1.00s/MB]                          \n"
     ]
    },
    {
     "name": "stdout",
     "output_type": "stream",
     "text": [
      "✅ Dataset 'vehicle-sales-data_18.84_mb' téléchargé avec succès dans 'C:\\Users\\f.gionnane\\Documents\\Useful Functions and algorithms\\downloaded_datasets\\vehicle-sales-data'.\n",
      "✅ Dataset 'syedanwarafridi/vehicle-sales-data' téléchargé avec succès.\n",
      "\n",
      "📁 Création du dossier : 'C:\\Users\\f.gionnane\\Documents\\Useful Functions and algorithms\\downloaded_datasets\\unlock-profits-with-e-commerce-sales-data'\n",
      "📥 Téléchargement de 'unlock-profits-with-e-commerce-sales-data_6.33_mb'...\n"
     ]
    },
    {
     "name": "stderr",
     "output_type": "stream",
     "text": [
      "📥 Progression: 8.00MB [00:08, 1.00s/MB]                          \n"
     ]
    },
    {
     "name": "stdout",
     "output_type": "stream",
     "text": [
      "✅ Dataset 'unlock-profits-with-e-commerce-sales-data_6.33_mb' téléchargé avec succès dans 'C:\\Users\\f.gionnane\\Documents\\Useful Functions and algorithms\\downloaded_datasets\\unlock-profits-with-e-commerce-sales-data'.\n",
      "✅ Dataset 'thedevastator/unlock-profits-with-e-commerce-sales-data' téléchargé avec succès.\n",
      "\n",
      "📁 Création du dossier : 'C:\\Users\\f.gionnane\\Documents\\Useful Functions and algorithms\\downloaded_datasets\\marketing-ab-testing'\n",
      "📥 Téléchargement de 'marketing-ab-testing_5.23_mb'...\n"
     ]
    },
    {
     "name": "stderr",
     "output_type": "stream",
     "text": [
      "📥 Progression: 7.00MB [00:07, 1.00s/MB]                          \n"
     ]
    },
    {
     "name": "stdout",
     "output_type": "stream",
     "text": [
      "✅ Dataset 'marketing-ab-testing_5.23_mb' téléchargé avec succès dans 'C:\\Users\\f.gionnane\\Documents\\Useful Functions and algorithms\\downloaded_datasets\\marketing-ab-testing'.\n",
      "✅ Dataset 'faviovaz/marketing-ab-testing' téléchargé avec succès.\n",
      "\n",
      "📁 Création du dossier : 'C:\\Users\\f.gionnane\\Documents\\Useful Functions and algorithms\\downloaded_datasets\\telecom-customer'\n",
      "📥 Téléchargement de 'telecom-customer_13.57_mb'...\n"
     ]
    },
    {
     "name": "stderr",
     "output_type": "stream",
     "text": [
      "📥 Progression:  96%|█████████▌| 13.0/13.6 [00:13<00:00, 1.00s/MB]\n"
     ]
    },
    {
     "name": "stdout",
     "output_type": "stream",
     "text": [
      "✅ Dataset 'telecom-customer_13.57_mb' téléchargé avec succès dans 'C:\\Users\\f.gionnane\\Documents\\Useful Functions and algorithms\\downloaded_datasets\\telecom-customer'.\n",
      "✅ Dataset 'abhinav89/telecom-customer' téléchargé avec succès.\n",
      "\n",
      "📁 Création du dossier : 'C:\\Users\\f.gionnane\\Documents\\Useful Functions and algorithms\\downloaded_datasets\\customer-support-on-twitter'\n",
      "📥 Téléchargement de 'customer-support-on-twitter_168.58_mb'...\n"
     ]
    },
    {
     "name": "stderr",
     "output_type": "stream",
     "text": [
      "📥 Progression:  81%|████████▏ | 137/169 [02:17<00:31, 1.00s/MB] \n"
     ]
    },
    {
     "name": "stdout",
     "output_type": "stream",
     "text": [
      "✅ Dataset 'customer-support-on-twitter_168.58_mb' téléchargé avec succès dans 'C:\\Users\\f.gionnane\\Documents\\Useful Functions and algorithms\\downloaded_datasets\\customer-support-on-twitter'.\n",
      "✅ Dataset 'thoughtvector/customer-support-on-twitter' téléchargé avec succès.\n",
      "\n",
      "📁 Création du dossier : 'C:\\Users\\f.gionnane\\Documents\\Useful Functions and algorithms\\downloaded_datasets\\customer-churn-dataset'\n",
      "📥 Téléchargement de 'customer-churn-dataset_6.66_mb'...\n"
     ]
    },
    {
     "name": "stderr",
     "output_type": "stream",
     "text": [
      "📥 Progression: 14.0MB [00:14, 1.00s/MB]                          \n"
     ]
    },
    {
     "name": "stdout",
     "output_type": "stream",
     "text": [
      "✅ Dataset 'customer-churn-dataset_6.66_mb' téléchargé avec succès dans 'C:\\Users\\f.gionnane\\Documents\\Useful Functions and algorithms\\downloaded_datasets\\customer-churn-dataset'.\n",
      "✅ Dataset 'muhammadshahidazeem/customer-churn-dataset' téléchargé avec succès.\n",
      "\n",
      "📁 Création du dossier : 'C:\\Users\\f.gionnane\\Documents\\Useful Functions and algorithms\\downloaded_datasets\\starbucks-customer-data'\n",
      "📥 Téléchargement de 'starbucks-customer-data_7.38_mb'...\n"
     ]
    },
    {
     "name": "stderr",
     "output_type": "stream",
     "text": [
      "📥 Progression: 10.0MB [00:10, 1.00s/MB]                          \n"
     ]
    },
    {
     "name": "stdout",
     "output_type": "stream",
     "text": [
      "✅ Dataset 'starbucks-customer-data_7.38_mb' téléchargé avec succès dans 'C:\\Users\\f.gionnane\\Documents\\Useful Functions and algorithms\\downloaded_datasets\\starbucks-customer-data'.\n",
      "✅ Dataset 'ihormuliar/starbucks-customer-data' téléchargé avec succès.\n",
      "\n",
      "📁 Création du dossier : 'C:\\Users\\f.gionnane\\Documents\\Useful Functions and algorithms\\downloaded_datasets\\mutual-funds-and-etfs'\n",
      "📥 Téléchargement de 'mutual-funds-and-etfs_353.34_mb'...\n"
     ]
    },
    {
     "name": "stderr",
     "output_type": "stream",
     "text": [
      "📥 Progression:  63%|██████▎   | 223/353 [03:43<02:10, 1.00s/MB] \n"
     ]
    },
    {
     "name": "stdout",
     "output_type": "stream",
     "text": [
      "✅ Dataset 'mutual-funds-and-etfs_353.34_mb' téléchargé avec succès dans 'C:\\Users\\f.gionnane\\Documents\\Useful Functions and algorithms\\downloaded_datasets\\mutual-funds-and-etfs'.\n",
      "✅ Dataset 'stefanoleone992/mutual-funds-and-etfs' téléchargé avec succès.\n",
      "\n",
      "📁 Création du dossier : 'C:\\Users\\f.gionnane\\Documents\\Useful Functions and algorithms\\downloaded_datasets\\massive-yahoo-finance-dataset'\n",
      "📥 Téléchargement de 'massive-yahoo-finance-dataset_22.78_mb'...\n"
     ]
    },
    {
     "name": "stderr",
     "output_type": "stream",
     "text": [
      "📥 Progression:  75%|███████▍  | 17.0/22.8 [00:17<00:05, 1.00s/MB]\n"
     ]
    },
    {
     "name": "stdout",
     "output_type": "stream",
     "text": [
      "✅ Dataset 'massive-yahoo-finance-dataset_22.78_mb' téléchargé avec succès dans 'C:\\Users\\f.gionnane\\Documents\\Useful Functions and algorithms\\downloaded_datasets\\massive-yahoo-finance-dataset'.\n",
      "✅ Dataset 'iveeaten3223times/massive-yahoo-finance-dataset' téléchargé avec succès.\n",
      "\n",
      "📁 Création du dossier : 'C:\\Users\\f.gionnane\\Documents\\Useful Functions and algorithms\\downloaded_datasets\\us-educational-finances'\n",
      "📥 Téléchargement de 'us-educational-finances_85.43_mb'...\n"
     ]
    },
    {
     "name": "stderr",
     "output_type": "stream",
     "text": [
      "📥 Progression:  63%|██████▎   | 54.0/85.4 [00:54<00:31, 1.00s/MB]\n"
     ]
    },
    {
     "name": "stdout",
     "output_type": "stream",
     "text": [
      "✅ Dataset 'us-educational-finances_85.43_mb' téléchargé avec succès dans 'C:\\Users\\f.gionnane\\Documents\\Useful Functions and algorithms\\downloaded_datasets\\us-educational-finances'.\n",
      "✅ Dataset 'noriuk/us-educational-finances' téléchargé avec succès.\n",
      "\n",
      "📁 Création du dossier : 'C:\\Users\\f.gionnane\\Documents\\Useful Functions and algorithms\\downloaded_datasets\\yahoo-finance-all-stocks-dataset-daily-update'\n",
      "📥 Téléchargement de 'yahoo-finance-all-stocks-dataset-daily-update_132.48_mb'...\n"
     ]
    },
    {
     "name": "stderr",
     "output_type": "stream",
     "text": [
      "📥 Progression:  63%|██████▎   | 84.0/132 [01:24<00:48, 1.00s/MB]\n"
     ]
    },
    {
     "name": "stdout",
     "output_type": "stream",
     "text": [
      "✅ Dataset 'yahoo-finance-all-stocks-dataset-daily-update_132.48_mb' téléchargé avec succès dans 'C:\\Users\\f.gionnane\\Documents\\Useful Functions and algorithms\\downloaded_datasets\\yahoo-finance-all-stocks-dataset-daily-update'.\n",
      "✅ Dataset 'tanavbajaj/yahoo-finance-all-stocks-dataset-daily-update' téléchargé avec succès.\n",
      "\n",
      "📁 Création du dossier : 'C:\\Users\\f.gionnane\\Documents\\Useful Functions and algorithms\\downloaded_datasets\\us-campaign-finance-20192020-fec'\n",
      "📥 Téléchargement de 'us-campaign-finance-20192020-fec_0.99_gb'...\n"
     ]
    },
    {
     "name": "stderr",
     "output_type": "stream",
     "text": [
      "📥 Progression:  65%|██████▍   | 657/1.02k [10:58<06:01, 1.00s/MB] \n"
     ]
    },
    {
     "name": "stdout",
     "output_type": "stream",
     "text": [
      "✅ Dataset 'us-campaign-finance-20192020-fec_0.99_gb' téléchargé avec succès dans 'C:\\Users\\f.gionnane\\Documents\\Useful Functions and algorithms\\downloaded_datasets\\us-campaign-finance-20192020-fec'.\n",
      "✅ Dataset 'jeegarmaru/us-campaign-finance-20192020-fec' téléchargé avec succès.\n",
      "\n",
      "📁 Création du dossier : 'C:\\Users\\f.gionnane\\Documents\\Useful Functions and algorithms\\downloaded_datasets\\dataco-smart-supply-chain-for-big-data-analysis'\n",
      "📥 Téléchargement de 'dataco-smart-supply-chain-for-big-data-analysis_25.67_mb'...\n"
     ]
    },
    {
     "name": "stderr",
     "output_type": "stream",
     "text": [
      "📥 Progression:  70%|███████   | 18.0/25.7 [00:18<00:07, 1.00s/MB]\n"
     ]
    },
    {
     "name": "stdout",
     "output_type": "stream",
     "text": [
      "✅ Dataset 'dataco-smart-supply-chain-for-big-data-analysis_25.67_mb' téléchargé avec succès dans 'C:\\Users\\f.gionnane\\Documents\\Useful Functions and algorithms\\downloaded_datasets\\dataco-smart-supply-chain-for-big-data-analysis'.\n",
      "✅ Dataset 'shashwatwork/dataco-smart-supply-chain-for-big-data-analysis' téléchargé avec succès.\n",
      "\n",
      "📁 Création du dossier : 'C:\\Users\\f.gionnane\\Documents\\Useful Functions and algorithms\\downloaded_datasets\\ecommerce-order-dataset'\n",
      "📥 Téléchargement de 'ecommerce-order-dataset_14.46_mb'...\n"
     ]
    },
    {
     "name": "stderr",
     "output_type": "stream",
     "text": [
      "📥 Progression:  90%|████████▉ | 13.0/14.5 [00:13<00:01, 1.00s/MB]\n"
     ]
    },
    {
     "name": "stdout",
     "output_type": "stream",
     "text": [
      "✅ Dataset 'ecommerce-order-dataset_14.46_mb' téléchargé avec succès dans 'C:\\Users\\f.gionnane\\Documents\\Useful Functions and algorithms\\downloaded_datasets\\ecommerce-order-dataset'.\n",
      "✅ Dataset 'bytadit/ecommerce-order-dataset' téléchargé avec succès.\n",
      "\n",
      "📁 Création du dossier : 'C:\\Users\\f.gionnane\\Documents\\Useful Functions and algorithms\\downloaded_datasets\\us-supply-chain-information-for-covid19'\n",
      "📥 Téléchargement de 'us-supply-chain-information-for-covid19_100.63_mb'...\n"
     ]
    },
    {
     "name": "stderr",
     "output_type": "stream",
     "text": [
      "📥 Progression:  92%|█████████▏| 93.0/101 [01:33<00:07, 1.00s/MB]\n"
     ]
    },
    {
     "name": "stdout",
     "output_type": "stream",
     "text": [
      "✅ Dataset 'us-supply-chain-information-for-covid19_100.63_mb' téléchargé avec succès dans 'C:\\Users\\f.gionnane\\Documents\\Useful Functions and algorithms\\downloaded_datasets\\us-supply-chain-information-for-covid19'.\n",
      "✅ Dataset 'skeller/us-supply-chain-information-for-covid19' téléchargé avec succès.\n",
      "\n",
      "📁 Création du dossier : 'C:\\Users\\f.gionnane\\Documents\\Useful Functions and algorithms\\downloaded_datasets\\delhivery-dataset'\n",
      "📥 Téléchargement de 'delhivery-dataset_8.72_mb'...\n"
     ]
    },
    {
     "name": "stderr",
     "output_type": "stream",
     "text": [
      "📥 Progression: 12.0MB [00:12, 1.00s/MB]                          \n"
     ]
    },
    {
     "name": "stdout",
     "output_type": "stream",
     "text": [
      "✅ Dataset 'delhivery-dataset_8.72_mb' téléchargé avec succès dans 'C:\\Users\\f.gionnane\\Documents\\Useful Functions and algorithms\\downloaded_datasets\\delhivery-dataset'.\n",
      "✅ Dataset 'santanukundu/delhivery-dataset' téléchargé avec succès.\n",
      "\n",
      "📁 Création du dossier : 'C:\\Users\\f.gionnane\\Documents\\Useful Functions and algorithms\\downloaded_datasets\\delhivery-logistics-dataset'\n",
      "📥 Téléchargement de 'delhivery-logistics-dataset_8.72_mb'...\n"
     ]
    },
    {
     "name": "stderr",
     "output_type": "stream",
     "text": [
      "📥 Progression: 19.0MB [00:19, 1.00s/MB]                          \n"
     ]
    },
    {
     "name": "stdout",
     "output_type": "stream",
     "text": [
      "✅ Dataset 'delhivery-logistics-dataset_8.72_mb' téléchargé avec succès dans 'C:\\Users\\f.gionnane\\Documents\\Useful Functions and algorithms\\downloaded_datasets\\delhivery-logistics-dataset'.\n",
      "✅ Dataset 'devarajv88/delhivery-logistics-dataset' téléchargé avec succès.\n",
      "\n",
      "📁 Création du dossier : 'C:\\Users\\f.gionnane\\Documents\\Useful Functions and algorithms\\downloaded_datasets\\data-sets-for-testing-human-resources'\n",
      "📥 Téléchargement de 'data-sets-for-testing-human-resources_1.01_gb'...\n"
     ]
    },
    {
     "name": "stderr",
     "output_type": "stream",
     "text": [
      "📥 Progression:  83%|████████▎ | 866/1.04k [14:27<02:52, 1.00s/MB] \n"
     ]
    },
    {
     "name": "stdout",
     "output_type": "stream",
     "text": [
      "✅ Dataset 'data-sets-for-testing-human-resources_1.01_gb' téléchargé avec succès dans 'C:\\Users\\f.gionnane\\Documents\\Useful Functions and algorithms\\downloaded_datasets\\data-sets-for-testing-human-resources'.\n",
      "✅ Dataset 'mexwell/data-sets-for-testing-human-resources' téléchargé avec succès.\n",
      "\n",
      "📁 Création du dossier : 'C:\\Users\\f.gionnane\\Documents\\Useful Functions and algorithms\\downloaded_datasets\\online-retail'\n",
      "📥 Téléchargement de 'online-retail_7.13_mb'...\n"
     ]
    },
    {
     "name": "stderr",
     "output_type": "stream",
     "text": [
      "📥 Progression: 12.0MB [00:12, 1.00s/MB]                          \n"
     ]
    },
    {
     "name": "stdout",
     "output_type": "stream",
     "text": [
      "✅ Dataset 'online-retail_7.13_mb' téléchargé avec succès dans 'C:\\Users\\f.gionnane\\Documents\\Useful Functions and algorithms\\downloaded_datasets\\online-retail'.\n",
      "✅ Dataset 'tunguz/online-retail' téléchargé avec succès.\n",
      "\n",
      "📁 Création du dossier : 'C:\\Users\\f.gionnane\\Documents\\Useful Functions and algorithms\\downloaded_datasets\\retail-transaction-dataset'\n",
      "📥 Téléchargement de 'retail-transaction-dataset_5.26_mb'...\n"
     ]
    },
    {
     "name": "stderr",
     "output_type": "stream",
     "text": [
      "📥 Progression: 6.00MB [00:06, 1.00s/MB]                          \n"
     ]
    },
    {
     "name": "stdout",
     "output_type": "stream",
     "text": [
      "✅ Dataset 'retail-transaction-dataset_5.26_mb' téléchargé avec succès dans 'C:\\Users\\f.gionnane\\Documents\\Useful Functions and algorithms\\downloaded_datasets\\retail-transaction-dataset'.\n",
      "✅ Dataset 'fahadrehman07/retail-transaction-dataset' téléchargé avec succès.\n",
      "\n",
      "📁 Création du dossier : 'C:\\Users\\f.gionnane\\Documents\\Useful Functions and algorithms\\downloaded_datasets\\online-retail-dataset'\n",
      "📥 Téléchargement de 'online-retail-dataset_7.38_mb'...\n"
     ]
    },
    {
     "name": "stderr",
     "output_type": "stream",
     "text": [
      "📥 Progression: 16.0MB [00:16, 1.00s/MB]                          \n"
     ]
    },
    {
     "name": "stdout",
     "output_type": "stream",
     "text": [
      "✅ Dataset 'online-retail-dataset_7.38_mb' téléchargé avec succès dans 'C:\\Users\\f.gionnane\\Documents\\Useful Functions and algorithms\\downloaded_datasets\\online-retail-dataset'.\n",
      "✅ Dataset 'ulrikthygepedersen/online-retail-dataset' téléchargé avec succès.\n",
      "\n",
      "📁 Création du dossier : 'C:\\Users\\f.gionnane\\Documents\\Useful Functions and algorithms\\downloaded_datasets\\online-retail-ii-uci'\n",
      "📥 Téléchargement de 'online-retail-ii-uci_14.51_mb'...\n"
     ]
    },
    {
     "name": "stderr",
     "output_type": "stream",
     "text": [
      "📥 Progression: 16.0MB [00:16, 1.00s/MB]                          \n"
     ]
    },
    {
     "name": "stdout",
     "output_type": "stream",
     "text": [
      "✅ Dataset 'online-retail-ii-uci_14.51_mb' téléchargé avec succès dans 'C:\\Users\\f.gionnane\\Documents\\Useful Functions and algorithms\\downloaded_datasets\\online-retail-ii-uci'.\n",
      "✅ Dataset 'mashlyn/online-retail-ii-uci' téléchargé avec succès.\n",
      "\n",
      "📁 Création du dossier : 'C:\\Users\\f.gionnane\\Documents\\Useful Functions and algorithms\\downloaded_datasets\\retail-transactions-dataset'\n",
      "📥 Téléchargement de 'retail-transactions-dataset_35.60_mb'...\n"
     ]
    },
    {
     "name": "stderr",
     "output_type": "stream",
     "text": [
      "📥 Progression: 56.0MB [00:56, 1.00s/MB]                          \n"
     ]
    },
    {
     "name": "stdout",
     "output_type": "stream",
     "text": [
      "✅ Dataset 'retail-transactions-dataset_35.60_mb' téléchargé avec succès dans 'C:\\Users\\f.gionnane\\Documents\\Useful Functions and algorithms\\downloaded_datasets\\retail-transactions-dataset'.\n",
      "✅ Dataset 'prasad22/retail-transactions-dataset' téléchargé avec succès.\n",
      "\n",
      "📁 Création du dossier : 'C:\\Users\\f.gionnane\\Documents\\Useful Functions and algorithms\\downloaded_datasets\\ecommerce-dataset'\n",
      "📥 Téléchargement de 'ecommerce-dataset_290.60_mb'...\n"
     ]
    },
    {
     "name": "stderr",
     "output_type": "stream",
     "text": [
      "📥 Progression:  83%|████████▎ | 242/291 [04:02<00:48, 1.00s/MB] \n"
     ]
    },
    {
     "name": "stdout",
     "output_type": "stream",
     "text": [
      "✅ Dataset 'ecommerce-dataset_290.60_mb' téléchargé avec succès dans 'C:\\Users\\f.gionnane\\Documents\\Useful Functions and algorithms\\downloaded_datasets\\ecommerce-dataset'.\n",
      "✅ Dataset 'retailrocket/ecommerce-dataset' téléchargé avec succès.\n",
      "\n",
      "📁 Création du dossier : 'C:\\Users\\f.gionnane\\Documents\\Useful Functions and algorithms\\downloaded_datasets\\retail-sales-data'\n",
      "📥 Téléchargement de 'retail-sales-data_86.52_mb'...\n"
     ]
    },
    {
     "name": "stderr",
     "output_type": "stream",
     "text": [
      "📥 Progression:  91%|█████████▏| 79.0/86.5 [01:19<00:07, 1.00s/MB]\n"
     ]
    },
    {
     "name": "stdout",
     "output_type": "stream",
     "text": [
      "✅ Dataset 'retail-sales-data_86.52_mb' téléchargé avec succès dans 'C:\\Users\\f.gionnane\\Documents\\Useful Functions and algorithms\\downloaded_datasets\\retail-sales-data'.\n",
      "✅ Dataset 'berkayalan/retail-sales-data' téléchargé avec succès.\n",
      "\n",
      "📁 Création du dossier : 'C:\\Users\\f.gionnane\\Documents\\Useful Functions and algorithms\\downloaded_datasets\\tata-online-retail-dataset'\n",
      "📥 Téléchargement de 'tata-online-retail-dataset_29.04_mb'...\n"
     ]
    },
    {
     "name": "stderr",
     "output_type": "stream",
     "text": [
      "📥 Progression: 30.0MB [00:30, 1.00s/MB]                          \n"
     ]
    },
    {
     "name": "stdout",
     "output_type": "stream",
     "text": [
      "✅ Dataset 'tata-online-retail-dataset_29.04_mb' téléchargé avec succès dans 'C:\\Users\\f.gionnane\\Documents\\Useful Functions and algorithms\\downloaded_datasets\\tata-online-retail-dataset'.\n",
      "✅ Dataset 'ishanshrivastava28/tata-online-retail-dataset' téléchargé avec succès.\n",
      "\n",
      "📁 Création du dossier : 'C:\\Users\\f.gionnane\\Documents\\Useful Functions and algorithms\\downloaded_datasets\\retail-transactional-dataset'\n",
      "📥 Téléchargement de 'retail-transactional-dataset_24.78_mb'...\n"
     ]
    },
    {
     "name": "stderr",
     "output_type": "stream",
     "text": [
      "📥 Progression:  97%|█████████▋| 24.0/24.8 [00:24<00:00, 1.00s/MB]\n"
     ]
    },
    {
     "name": "stdout",
     "output_type": "stream",
     "text": [
      "✅ Dataset 'retail-transactional-dataset_24.78_mb' téléchargé avec succès dans 'C:\\Users\\f.gionnane\\Documents\\Useful Functions and algorithms\\downloaded_datasets\\retail-transactional-dataset'.\n",
      "✅ Dataset 'bhavikjikadara/retail-transactional-dataset' téléchargé avec succès.\n",
      "\n",
      "📥 Téléchargement de 'online-retail-dataset_43.48_mb'...\n"
     ]
    },
    {
     "name": "stderr",
     "output_type": "stream",
     "text": [
      "📥 Progression:  69%|██████▉   | 30.0/43.5 [00:30<00:13, 1.00s/MB]\n"
     ]
    },
    {
     "name": "stdout",
     "output_type": "stream",
     "text": [
      "✅ Dataset 'online-retail-dataset_43.48_mb' téléchargé avec succès dans 'C:\\Users\\f.gionnane\\Documents\\Useful Functions and algorithms\\downloaded_datasets\\online-retail-dataset'.\n",
      "✅ Dataset 'sanlian/online-retail-dataset' téléchargé avec succès.\n",
      "\n",
      "📥 Téléchargement de 'online-retail-dataset_43.30_mb'...\n"
     ]
    },
    {
     "name": "stderr",
     "output_type": "stream",
     "text": [
      "📥 Progression:  76%|███████▌  | 33.0/43.3 [00:33<00:10, 1.00s/MB]\n"
     ]
    },
    {
     "name": "stdout",
     "output_type": "stream",
     "text": [
      "✅ Dataset 'online-retail-dataset_43.30_mb' téléchargé avec succès dans 'C:\\Users\\f.gionnane\\Documents\\Useful Functions and algorithms\\downloaded_datasets\\online-retail-dataset'.\n",
      "✅ Dataset 'lakshmi25npathi/online-retail-dataset' téléchargé avec succès.\n",
      "\n",
      "📁 Création du dossier : 'C:\\Users\\f.gionnane\\Documents\\Useful Functions and algorithms\\downloaded_datasets\\retail-sales-analysis'\n",
      "📥 Téléchargement de 'retail-sales-analysis_6.08_mb'...\n"
     ]
    },
    {
     "name": "stderr",
     "output_type": "stream",
     "text": [
      "📥 Progression: 8.00MB [00:08, 1.00s/MB]                          \n"
     ]
    },
    {
     "name": "stdout",
     "output_type": "stream",
     "text": [
      "✅ Dataset 'retail-sales-analysis_6.08_mb' téléchargé avec succès dans 'C:\\Users\\f.gionnane\\Documents\\Useful Functions and algorithms\\downloaded_datasets\\retail-sales-analysis'.\n",
      "✅ Dataset 'sahirmaharajj/retail-sales-analysis' téléchargé avec succès.\n",
      "\n",
      "📁 Création du dossier : 'C:\\Users\\f.gionnane\\Documents\\Useful Functions and algorithms\\downloaded_datasets\\ecommerce-text-classification'\n",
      "📥 Téléchargement de 'ecommerce-text-classification_7.86_mb'...\n"
     ]
    },
    {
     "name": "stderr",
     "output_type": "stream",
     "text": [
      "📥 Progression: 9.00MB [00:09, 1.00s/MB]                          \n"
     ]
    },
    {
     "name": "stdout",
     "output_type": "stream",
     "text": [
      "✅ Dataset 'ecommerce-text-classification_7.86_mb' téléchargé avec succès dans 'C:\\Users\\f.gionnane\\Documents\\Useful Functions and algorithms\\downloaded_datasets\\ecommerce-text-classification'.\n",
      "✅ Dataset 'saurabhshahane/ecommerce-text-classification' téléchargé avec succès.\n",
      "\n",
      "📁 Création du dossier : 'C:\\Users\\f.gionnane\\Documents\\Useful Functions and algorithms\\downloaded_datasets\\ecommerce-behavior-data-from-multi-category-store'\n",
      "📥 Téléchargement de 'ecommerce-behavior-data-from-multi-category-store_4.29_gb'...\n"
     ]
    },
    {
     "name": "stderr",
     "output_type": "stream",
     "text": [
      "📥 Progression:  79%|███████▉  | 3.48k/4.39k [58:00<15:19, 1.00s/MB] \n"
     ]
    },
    {
     "name": "stdout",
     "output_type": "stream",
     "text": [
      "✅ Dataset 'ecommerce-behavior-data-from-multi-category-store_4.29_gb' téléchargé avec succès dans 'C:\\Users\\f.gionnane\\Documents\\Useful Functions and algorithms\\downloaded_datasets\\ecommerce-behavior-data-from-multi-category-store'.\n",
      "✅ Dataset 'mkechinov/ecommerce-behavior-data-from-multi-category-store' téléchargé avec succès.\n",
      "\n",
      "📁 Création du dossier : 'C:\\Users\\f.gionnane\\Documents\\Useful Functions and algorithms\\downloaded_datasets\\ecommerce-data-analysis'\n",
      "📥 Téléchargement de 'ecommerce-data-analysis_16.81_mb'...\n"
     ]
    },
    {
     "name": "stderr",
     "output_type": "stream",
     "text": [
      "📥 Progression:  59%|█████▉    | 10.0/16.8 [00:10<00:06, 1.00s/MB]\n"
     ]
    },
    {
     "name": "stdout",
     "output_type": "stream",
     "text": [
      "✅ Dataset 'ecommerce-data-analysis_16.81_mb' téléchargé avec succès dans 'C:\\Users\\f.gionnane\\Documents\\Useful Functions and algorithms\\downloaded_datasets\\ecommerce-data-analysis'.\n",
      "✅ Dataset 'mmohaiminulislam/ecommerce-data-analysis' téléchargé avec succès.\n",
      "\n",
      "📁 Création du dossier : 'C:\\Users\\f.gionnane\\Documents\\Useful Functions and algorithms\\downloaded_datasets\\flipkart-fasion-products-dataset'\n",
      "📥 Téléchargement de 'flipkart-fasion-products-dataset_15.05_mb'...\n"
     ]
    },
    {
     "name": "stderr",
     "output_type": "stream",
     "text": [
      "📥 Progression:  73%|███████▎  | 11.0/15.1 [00:11<00:04, 1.00s/MB]\n"
     ]
    },
    {
     "name": "stdout",
     "output_type": "stream",
     "text": [
      "✅ Dataset 'flipkart-fasion-products-dataset_15.05_mb' téléchargé avec succès dans 'C:\\Users\\f.gionnane\\Documents\\Useful Functions and algorithms\\downloaded_datasets\\flipkart-fasion-products-dataset'.\n",
      "✅ Dataset 'aaditshukla/flipkart-fasion-products-dataset' téléchargé avec succès.\n",
      "\n",
      "📁 Création du dossier : 'C:\\Users\\f.gionnane\\Documents\\Useful Functions and algorithms\\downloaded_datasets\\ecommerce-customer-service-satisfaction'\n",
      "📥 Téléchargement de 'ecommerce-customer-service-satisfaction_6.26_mb'...\n"
     ]
    },
    {
     "name": "stderr",
     "output_type": "stream",
     "text": [
      "📥 Progression: 7.00MB [00:07, 1.00s/MB]                          \n"
     ]
    },
    {
     "name": "stdout",
     "output_type": "stream",
     "text": [
      "✅ Dataset 'ecommerce-customer-service-satisfaction_6.26_mb' téléchargé avec succès dans 'C:\\Users\\f.gionnane\\Documents\\Useful Functions and algorithms\\downloaded_datasets\\ecommerce-customer-service-satisfaction'.\n",
      "✅ Dataset 'ddosad/ecommerce-customer-service-satisfaction' téléchargé avec succès.\n",
      "\n",
      "📁 Création du dossier : 'C:\\Users\\f.gionnane\\Documents\\Useful Functions and algorithms\\downloaded_datasets\\ecommerce-events-history-in-cosmetics-shop'\n",
      "📥 Téléchargement de 'ecommerce-events-history-in-cosmetics-shop_429.98_mb'...\n"
     ]
    },
    {
     "name": "stderr",
     "output_type": "stream",
     "text": [
      "📥 Progression:  53%|█████▎    | 229/430 [03:49<03:21, 1.00s/MB] \n"
     ]
    },
    {
     "name": "stdout",
     "output_type": "stream",
     "text": [
      "✅ Dataset 'ecommerce-events-history-in-cosmetics-shop_429.98_mb' téléchargé avec succès dans 'C:\\Users\\f.gionnane\\Documents\\Useful Functions and algorithms\\downloaded_datasets\\ecommerce-events-history-in-cosmetics-shop'.\n",
      "✅ Dataset 'mkechinov/ecommerce-events-history-in-cosmetics-shop' téléchargé avec succès.\n",
      "\n",
      "📁 Création du dossier : 'C:\\Users\\f.gionnane\\Documents\\Useful Functions and algorithms\\downloaded_datasets\\ecommerce-purchase-history-from-electronics-store'\n",
      "📥 Téléchargement de 'ecommerce-purchase-history-from-electronics-store_50.46_mb'...\n"
     ]
    },
    {
     "name": "stderr",
     "output_type": "stream",
     "text": [
      "📥 Progression:  59%|█████▉    | 30.0/50.5 [00:30<00:20, 1.00s/MB]\n"
     ]
    },
    {
     "name": "stdout",
     "output_type": "stream",
     "text": [
      "✅ Dataset 'ecommerce-purchase-history-from-electronics-store_50.46_mb' téléchargé avec succès dans 'C:\\Users\\f.gionnane\\Documents\\Useful Functions and algorithms\\downloaded_datasets\\ecommerce-purchase-history-from-electronics-store'.\n",
      "✅ Dataset 'mkechinov/ecommerce-purchase-history-from-electronics-store' téléchargé avec succès.\n",
      "\n",
      "📥 Téléchargement de 'ecommerce-dataset_290.60_mb'...\n"
     ]
    },
    {
     "name": "stderr",
     "output_type": "stream",
     "text": [
      "📥 Progression:  61%|██████    | 176/291 [02:56<01:54, 1.00s/MB] \n"
     ]
    },
    {
     "name": "stdout",
     "output_type": "stream",
     "text": [
      "✅ Dataset 'ecommerce-dataset_290.60_mb' téléchargé avec succès dans 'C:\\Users\\f.gionnane\\Documents\\Useful Functions and algorithms\\downloaded_datasets\\ecommerce-dataset'.\n",
      "✅ Dataset 'retailrocket/ecommerce-dataset' téléchargé avec succès.\n",
      "\n",
      "📁 Création du dossier : 'C:\\Users\\f.gionnane\\Documents\\Useful Functions and algorithms\\downloaded_datasets\\vietnam-war-bombing-operations'\n",
      "📥 Téléchargement de 'vietnam-war-bombing-operations_304.86_mb'...\n"
     ]
    },
    {
     "name": "stderr",
     "output_type": "stream",
     "text": [
      "📥 Progression:  57%|█████▋    | 173/305 [02:53<02:12, 1.00s/MB] \n"
     ]
    },
    {
     "name": "stdout",
     "output_type": "stream",
     "text": [
      "✅ Dataset 'vietnam-war-bombing-operations_304.86_mb' téléchargé avec succès dans 'C:\\Users\\f.gionnane\\Documents\\Useful Functions and algorithms\\downloaded_datasets\\vietnam-war-bombing-operations'.\n",
      "✅ Dataset 'usaf/vietnam-war-bombing-operations' téléchargé avec succès.\n",
      "\n",
      "📁 Création du dossier : 'C:\\Users\\f.gionnane\\Documents\\Useful Functions and algorithms\\downloaded_datasets\\world-bank-projects-operations'\n",
      "📥 Téléchargement de 'world-bank-projects-operations_31.55_mb'...\n"
     ]
    },
    {
     "name": "stderr",
     "output_type": "stream",
     "text": [
      "📥 Progression:  60%|██████    | 19.0/31.6 [00:19<00:12, 1.00s/MB]\n"
     ]
    },
    {
     "name": "stdout",
     "output_type": "stream",
     "text": [
      "✅ Dataset 'world-bank-projects-operations_31.55_mb' téléchargé avec succès dans 'C:\\Users\\f.gionnane\\Documents\\Useful Functions and algorithms\\downloaded_datasets\\world-bank-projects-operations'.\n",
      "✅ Dataset 'theworldbank/world-bank-projects-operations' téléchargé avec succès.\n",
      "\n",
      "📁 Création du dossier : 'C:\\Users\\f.gionnane\\Documents\\Useful Functions and algorithms\\downloaded_datasets\\retail-transactional-dataset'\n",
      "📥 Téléchargement de 'retail-transactional-dataset_24.78_mb'...\n"
     ]
    },
    {
     "name": "stderr",
     "output_type": "stream",
     "text": [
      "📥 Progression:  61%|██████    | 15.0/24.8 [00:15<00:09, 1.00s/MB]\n"
     ]
    },
    {
     "name": "stdout",
     "output_type": "stream",
     "text": [
      "✅ Dataset 'retail-transactional-dataset_24.78_mb' téléchargé avec succès dans 'C:\\Users\\f.gionnane\\Documents\\Useful Functions and algorithms\\downloaded_datasets\\retail-transactional-dataset'.\n",
      "✅ Dataset 'bhavikjikadara/retail-transactional-dataset' téléchargé avec succès.\n",
      "\n",
      "📁 Création du dossier : 'C:\\Users\\f.gionnane\\Documents\\Useful Functions and algorithms\\downloaded_datasets\\target-dataset'\n",
      "📥 Téléchargement de 'target-dataset_36.19_mb'...\n"
     ]
    },
    {
     "name": "stderr",
     "output_type": "stream",
     "text": [
      "📥 Progression:  75%|███████▍  | 27.0/36.2 [00:27<00:09, 1.00s/MB]\n"
     ]
    },
    {
     "name": "stdout",
     "output_type": "stream",
     "text": [
      "✅ Dataset 'target-dataset_36.19_mb' téléchargé avec succès dans 'C:\\Users\\f.gionnane\\Documents\\Useful Functions and algorithms\\downloaded_datasets\\target-dataset'.\n",
      "✅ Dataset 'devarajv88/target-dataset' téléchargé avec succès.\n",
      "\n",
      "📁 Création du dossier : 'C:\\Users\\f.gionnane\\Documents\\Useful Functions and algorithms\\downloaded_datasets\\airlines-dataset'\n",
      "📥 Téléchargement de 'airlines-dataset_29.62_mb'...\n"
     ]
    },
    {
     "name": "stderr",
     "output_type": "stream",
     "text": [
      "📥 Progression:  64%|██████▍   | 19.0/29.6 [00:19<00:10, 1.00s/MB]\n"
     ]
    },
    {
     "name": "stdout",
     "output_type": "stream",
     "text": [
      "✅ Dataset 'airlines-dataset_29.62_mb' téléchargé avec succès dans 'C:\\Users\\f.gionnane\\Documents\\Useful Functions and algorithms\\downloaded_datasets\\airlines-dataset'.\n",
      "✅ Dataset 'saadharoon27/airlines-dataset' téléchargé avec succès.\n",
      "\n",
      "📁 Création du dossier : 'C:\\Users\\f.gionnane\\Documents\\Useful Functions and algorithms\\downloaded_datasets\\mars-express-power-hackathon'\n",
      "📥 Téléchargement de 'mars-express-power-hackathon_58.16_mb'...\n"
     ]
    },
    {
     "name": "stderr",
     "output_type": "stream",
     "text": [
      "📥 Progression:  67%|██████▋   | 39.0/58.2 [00:39<00:19, 1.00s/MB]\n"
     ]
    },
    {
     "name": "stdout",
     "output_type": "stream",
     "text": [
      "✅ Dataset 'mars-express-power-hackathon_58.16_mb' téléchargé avec succès dans 'C:\\Users\\f.gionnane\\Documents\\Useful Functions and algorithms\\downloaded_datasets\\mars-express-power-hackathon'.\n",
      "✅ Dataset 'europeanspaceagency/mars-express-power-hackathon' téléchargé avec succès.\n",
      "\n",
      "📁 Création du dossier : 'C:\\Users\\f.gionnane\\Documents\\Useful Functions and algorithms\\downloaded_datasets\\images'\n",
      "📥 Téléchargement de 'images_5.05_mb'...\n"
     ]
    },
    {
     "name": "stderr",
     "output_type": "stream",
     "text": [
      "📥 Progression: 7.00MB [00:07, 1.00s/MB]                          \n"
     ]
    },
    {
     "name": "stdout",
     "output_type": "stream",
     "text": [
      "✅ Dataset 'images_5.05_mb' téléchargé avec succès dans 'C:\\Users\\f.gionnane\\Documents\\Useful Functions and algorithms\\downloaded_datasets\\images'.\n",
      "✅ Dataset 'mukeshmanral/images' téléchargé avec succès.\n",
      "\n",
      "📁 Création du dossier : 'C:\\Users\\f.gionnane\\Documents\\Useful Functions and algorithms\\downloaded_datasets\\usa-real-estate-dataset'\n",
      "📥 Téléchargement de 'usa-real-estate-dataset_38.23_mb'...\n"
     ]
    },
    {
     "name": "stderr",
     "output_type": "stream",
     "text": [
      "📥 Progression:  68%|██████▊   | 26.0/38.2 [00:26<00:12, 1.00s/MB]\n"
     ]
    },
    {
     "name": "stdout",
     "output_type": "stream",
     "text": [
      "✅ Dataset 'usa-real-estate-dataset_38.23_mb' téléchargé avec succès dans 'C:\\Users\\f.gionnane\\Documents\\Useful Functions and algorithms\\downloaded_datasets\\usa-real-estate-dataset'.\n",
      "✅ Dataset 'ahmedshahriarsakib/usa-real-estate-dataset' téléchargé avec succès.\n",
      "\n",
      "📁 Création du dossier : 'C:\\Users\\f.gionnane\\Documents\\Useful Functions and algorithms\\downloaded_datasets\\russia-real-estate-20182021'\n",
      "📥 Téléchargement de 'russia-real-estate-20182021_110.74_mb'...\n"
     ]
    },
    {
     "name": "stderr",
     "output_type": "stream",
     "text": [
      "📥 Progression:  60%|█████▉    | 66.0/111 [01:06<00:44, 1.00s/MB]\n"
     ]
    },
    {
     "name": "stdout",
     "output_type": "stream",
     "text": [
      "✅ Dataset 'russia-real-estate-20182021_110.74_mb' téléchargé avec succès dans 'C:\\Users\\f.gionnane\\Documents\\Useful Functions and algorithms\\downloaded_datasets\\russia-real-estate-20182021'.\n",
      "✅ Dataset 'mrdaniilak/russia-real-estate-20182021' téléchargé avec succès.\n",
      "\n",
      "📁 Création du dossier : 'C:\\Users\\f.gionnane\\Documents\\Useful Functions and algorithms\\downloaded_datasets\\real-estate-california'\n",
      "📥 Téléchargement de 'real-estate-california_11.44_mb'...\n"
     ]
    },
    {
     "name": "stderr",
     "output_type": "stream",
     "text": [
      "📥 Progression:  87%|████████▋ | 10.0/11.4 [00:10<00:01, 1.00s/MB]\n"
     ]
    },
    {
     "name": "stdout",
     "output_type": "stream",
     "text": [
      "✅ Dataset 'real-estate-california_11.44_mb' téléchargé avec succès dans 'C:\\Users\\f.gionnane\\Documents\\Useful Functions and algorithms\\downloaded_datasets\\real-estate-california'.\n",
      "✅ Dataset 'yellowj4acket/real-estate-california' téléchargé avec succès.\n",
      "\n",
      "📁 Création du dossier : 'C:\\Users\\f.gionnane\\Documents\\Useful Functions and algorithms\\downloaded_datasets\\gurgaon-real-estate-99acres-com'\n",
      "📥 Téléchargement de 'gurgaon-real-estate-99acres-com_14.09_mb'...\n"
     ]
    },
    {
     "name": "stderr",
     "output_type": "stream",
     "text": [
      "📥 Progression:  85%|████████▌ | 12.0/14.1 [00:12<00:02, 1.00s/MB]\n"
     ]
    },
    {
     "name": "stdout",
     "output_type": "stream",
     "text": [
      "✅ Dataset 'gurgaon-real-estate-99acres-com_14.09_mb' téléchargé avec succès dans 'C:\\Users\\f.gionnane\\Documents\\Useful Functions and algorithms\\downloaded_datasets\\gurgaon-real-estate-99acres-com'.\n",
      "✅ Dataset 'arvanshul/gurgaon-real-estate-99acres-com' téléchargé avec succès.\n",
      "\n",
      "📁 Création du dossier : 'C:\\Users\\f.gionnane\\Documents\\Useful Functions and algorithms\\downloaded_datasets\\real-estate-sales-2001-2020'\n",
      "📥 Téléchargement de 'real-estate-sales-2001-2020_27.51_mb'...\n"
     ]
    },
    {
     "name": "stderr",
     "output_type": "stream",
     "text": [
      "📥 Progression:  87%|████████▋ | 24.0/27.5 [00:24<00:03, 1.00s/MB]\n"
     ]
    },
    {
     "name": "stdout",
     "output_type": "stream",
     "text": [
      "✅ Dataset 'real-estate-sales-2001-2020_27.51_mb' téléchargé avec succès dans 'C:\\Users\\f.gionnane\\Documents\\Useful Functions and algorithms\\downloaded_datasets\\real-estate-sales-2001-2020'.\n",
      "✅ Dataset 'derrekdevon/real-estate-sales-2001-2020' téléchargé avec succès.\n",
      "\n",
      "📁 Création du dossier : 'C:\\Users\\f.gionnane\\Documents\\Useful Functions and algorithms\\downloaded_datasets\\russia-real-estate-2021'\n",
      "📥 Téléchargement de 'russia-real-estate-2021_275.88_mb'...\n"
     ]
    },
    {
     "name": "stderr",
     "output_type": "stream",
     "text": [
      "📥 Progression:  87%|████████▋ | 240/276 [04:00<00:35, 1.00s/MB] \n"
     ]
    },
    {
     "name": "stdout",
     "output_type": "stream",
     "text": [
      "✅ Dataset 'russia-real-estate-2021_275.88_mb' téléchargé avec succès dans 'C:\\Users\\f.gionnane\\Documents\\Useful Functions and algorithms\\downloaded_datasets\\russia-real-estate-2021'.\n",
      "✅ Dataset 'mrdaniilak/russia-real-estate-2021' téléchargé avec succès.\n",
      "\n",
      "📁 Création du dossier : 'C:\\Users\\f.gionnane\\Documents\\Useful Functions and algorithms\\downloaded_datasets\\worlds-real-estate-data147k'\n",
      "📥 Téléchargement de 'worlds-real-estate-data147k_5.88_mb'...\n"
     ]
    },
    {
     "name": "stderr",
     "output_type": "stream",
     "text": [
      "📥 Progression: 10.0MB [00:10, 1.00s/MB]                          \n"
     ]
    },
    {
     "name": "stdout",
     "output_type": "stream",
     "text": [
      "✅ Dataset 'worlds-real-estate-data147k_5.88_mb' téléchargé avec succès dans 'C:\\Users\\f.gionnane\\Documents\\Useful Functions and algorithms\\downloaded_datasets\\worlds-real-estate-data147k'.\n",
      "✅ Dataset 'toriqulstu/worlds-real-estate-data147k' téléchargé avec succès.\n",
      "\n",
      "📁 Création du dossier : 'C:\\Users\\f.gionnane\\Documents\\Useful Functions and algorithms\\downloaded_datasets\\japan-real-estate-transaction-prices'\n",
      "📥 Téléchargement de 'japan-real-estate-transaction-prices_97.31_mb'...\n"
     ]
    },
    {
     "name": "stderr",
     "output_type": "stream",
     "text": [
      "📥 Progression:  67%|██████▋   | 65.0/97.3 [01:05<00:32, 1.00s/MB]"
     ]
    },
    {
     "name": "stdout",
     "output_type": "stream",
     "text": [
      "✅ Dataset 'japan-real-estate-transaction-prices_97.31_mb' téléchargé avec succès dans 'C:\\Users\\f.gionnane\\Documents\\Useful Functions and algorithms\\downloaded_datasets\\japan-real-estate-transaction-prices'.\n",
      "✅ Dataset 'nishiodens/japan-real-estate-transaction-prices' téléchargé avec succès.\n",
      "\n"
     ]
    },
    {
     "name": "stderr",
     "output_type": "stream",
     "text": [
      "\n"
     ]
    }
   ],
   "source": [
    "for idx, row in df_consulting_datasets.iterrows():\n",
    "    ref = row[\"ref\"]\n",
    "    size_mb = row.get(\"Size (Mb)\", None)  # Sécurisé même si la colonne est absente\n",
    "\n",
    "    try:\n",
    "        download_dataset(ref, path=download_path, dataset_size=size_mb)\n",
    "        print(f\"✅ Dataset '{ref}' téléchargé avec succès.\\n\")\n",
    "    except Exception as e:\n",
    "        print(f\"❌ Erreur lors du téléchargement de {ref} : {str(e)}\\n\")\n",
    "        continue"
   ]
  },
  {
   "cell_type": "code",
   "execution_count": null,
   "metadata": {},
   "outputs": [],
   "source": [
    "\n",
    "df_consulting_datasets.head()"
   ]
  }
 ],
 "metadata": {
  "kernelspec": {
   "display_name": "env",
   "language": "python",
   "name": "python3"
  },
  "language_info": {
   "codemirror_mode": {
    "name": "ipython",
    "version": 3
   },
   "file_extension": ".py",
   "mimetype": "text/x-python",
   "name": "python",
   "nbconvert_exporter": "python",
   "pygments_lexer": "ipython3",
   "version": "3.13.2"
  }
 },
 "nbformat": 4,
 "nbformat_minor": 2
}
