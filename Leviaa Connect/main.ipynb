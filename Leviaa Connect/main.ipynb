{
 "cells": [
  {
   "cell_type": "code",
   "execution_count": 15,
   "id": "c8709208",
   "metadata": {},
   "outputs": [],
   "source": [
    "from imports import *\n",
    "from functions import *\n",
    "from auth import  *"
   ]
  },
  {
   "cell_type": "code",
   "execution_count": 2,
   "id": "d7acff67",
   "metadata": {},
   "outputs": [],
   "source": [
    "path_intellectual_learning = \"/Intellectual Learning\"\n",
    "path_sciences_economics_and_more =  path_intellectual_learning+\"/Sciences, Economics & More\"\n",
    "path_economy_and_finances = path_sciences_economics_and_more + \"/Économie & Finances\"\n",
    "path_economie = path_economy_and_finances + \"/Économie\"\n",
    "path_institut_des_libertes = path_economie + \"/Institut Des Libertés\"\n",
    "path_von_mises = path_economie + \"/Von Mises\"\n",
    "\n",
    "path_charles_gave = path_institut_des_libertes + \"/Charles Gave\""
   ]
  },
  {
   "cell_type": "markdown",
   "id": "5d29aa40",
   "metadata": {},
   "source": [
    "Lister les PDF du Dossier Charles Gaves"
   ]
  },
  {
   "cell_type": "code",
   "execution_count": 3,
   "id": "425cce7f",
   "metadata": {},
   "outputs": [
    {
     "name": "stdout",
     "output_type": "stream",
     "text": [
      "7\n",
      "/Intellectual Learning/Sciences, Economics & More/Économie & Finances/Économie/Institut Des Libertés/Charles Gave/Charles-Gave-Cest-une-Révolte.pdf\n",
      "/Intellectual Learning/Sciences, Economics & More/Économie & Finances/Économie/Institut Des Libertés/Charles Gave/Charles-Gave-LÉtat-est-mort-vive-létat.pdf\n",
      "/Intellectual Learning/Sciences, Economics & More/Économie & Finances/Économie/Institut Des Libertés/Charles Gave/Charles-Gave-Un-Libéral-Nommé-Jésus.pdf\n",
      "/Intellectual Learning/Sciences, Economics & More/Économie & Finances/Économie/Institut Des Libertés/Charles Gave/Des_lions_menes_par_des_anes.pdf\n",
      "/Intellectual Learning/Sciences, Economics & More/Économie & Finances/Économie/Institut Des Libertés/Charles Gave/LiberalMaisNonCoupable.pdf\n",
      "/Intellectual Learning/Sciences, Economics & More/Économie & Finances/Économie/Institut Des Libertés/Charles Gave/letat-a-une-tres-grande-responsabilite-dans-la-crise-energetique-de-la-france.pdf\n",
      "/Intellectual Learning/Sciences, Economics & More/Économie & Finances/Économie/Institut Des Libertés/Charles Gave/sire-surtout-ne-faites-rien.pdf\n"
     ]
    }
   ],
   "source": [
    "r = requests.request('PROPFIND', url+path_charles_gave, data=None, auth=auth)\n",
    "data = ET.fromstring(r.text)\n",
    "\n",
    "# Extraire le nom de fichier, le décoder, et enlever l'extension et faire attention a ne prendre que les pdf\n",
    "\n",
    "files = [urllib.parse.unquote(os.path.basename(el[0].text)) for el in data]\n",
    "files = [file for file in files if file.endswith(\".pdf\")]\n",
    "filenames = [os.path.splitext(item)[0] for item in files]\n",
    "\n",
    "print(f\"{len(filenames)}\")\n",
    "\n",
    "for file in files:\n",
    "    print(path_charles_gave+\"/\"+file)    "
   ]
  },
  {
   "cell_type": "code",
   "execution_count": 9,
   "id": "84be1176",
   "metadata": {},
   "outputs": [
    {
     "data": {
      "text/plain": [
       "[{'path': '/Intellectual Learning/Sciences, Economics & More/Économie & Finances/Économie/Von Mises',\n",
       "  'file': 'Laction-humaine-Ludwig-von-Mises.pdf'}]"
      ]
     },
     "execution_count": 9,
     "metadata": {},
     "output_type": "execute_result"
    }
   ],
   "source": [
    "von_mises_files = get_files_from_leviaa_cloud_path(path_von_mises)\n",
    "\n",
    "# OUTPUT : [{'path': '/Intellectual Learning/Sciences, Economics & More/Économie & Finances/Économie/Von Mises',\n",
    "#  'file': 'Laction-humaine-Ludwig-von-Mises.pdf'}]\n",
    "\n",
    "von_mises_files"
   ]
  },
  {
   "cell_type": "markdown",
   "id": "aeda95c2",
   "metadata": {},
   "source": [
    "Les foutre dans le dossier local"
   ]
  },
  {
   "cell_type": "code",
   "execution_count": null,
   "id": "59fddaab",
   "metadata": {},
   "outputs": [
    {
     "name": "stdout",
     "output_type": "stream",
     "text": [
      "✅ Fichier téléchargé : Laction-humaine-Ludwig-von-Mises.pdf\n"
     ]
    }
   ],
   "source": [
    "output_path = r\"c:\\Users\\f.gionnane\\Documents\\RAGs\\Other devs Projects\\RAG-Pierre\\data\"\n",
    "\n",
    "\n",
    "\n",
    "\n",
    "for file in von_mises_files:\n",
    "    path = file.get('path')\n",
    "    file = file.get('file')\n",
    "    \n",
    "    \n",
    "\n",
    "    write_file_from_leviaa_to_local(output_path=output_path, path=path, file=file)\n",
    "\n"
   ]
  },
  {
   "cell_type": "code",
   "execution_count": 17,
   "id": "d535cb5a",
   "metadata": {},
   "outputs": [
    {
     "name": "stdout",
     "output_type": "stream",
     "text": [
      "✅ Fichier téléchargé : Laction-humaine-Ludwig-von-Mises.pdf\n"
     ]
    }
   ],
   "source": [
    "output_path = r\"c:\\Users\\f.gionnane\\Documents\\RAGs\\Other devs Projects\\RAG-Pierre\\data\"\n",
    "\n",
    "for file in von_mises_files:\n",
    "    path = file['path']\n",
    "    file = file['file']\n",
    "    path_to_file = path + \"/\" + file\n",
    "    r = requests.request('GET', url + path_to_file, auth=auth)\n",
    "\n",
    "    file_name = os.path.basename(file)\n",
    "    output_file_path = os.path.join(output_path, file_name)\n",
    "\n",
    "    with open(output_file_path, 'wb') as f:\n",
    "        f.write(r.content)\n",
    "\n",
    "    print(f\"✅ Fichier téléchargé : {file_name}\")\n"
   ]
  }
 ],
 "metadata": {
  "kernelspec": {
   "display_name": "env",
   "language": "python",
   "name": "python3"
  },
  "language_info": {
   "codemirror_mode": {
    "name": "ipython",
    "version": 3
   },
   "file_extension": ".py",
   "mimetype": "text/x-python",
   "name": "python",
   "nbconvert_exporter": "python",
   "pygments_lexer": "ipython3",
   "version": "3.13.2"
  }
 },
 "nbformat": 4,
 "nbformat_minor": 5
}
